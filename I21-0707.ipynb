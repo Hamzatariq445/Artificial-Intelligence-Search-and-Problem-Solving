{
  "cells": [
    {
      "cell_type": "markdown",
      "metadata": {
        "id": "82AGWvZH1yXb"
      },
      "source": [
        "# Hamza Tariq (I21-0707)\n",
        "# Assignment # 01"
      ]
    },
    {
      "cell_type": "markdown",
      "metadata": {},
      "source": [
        "# Libraries"
      ]
    },
    {
      "cell_type": "code",
      "execution_count": 26,
      "metadata": {
        "id": "Q2wWy9ig1NA3"
      },
      "outputs": [],
      "source": [
        "\n",
        "\n",
        "import itertools\n",
        "import random\n",
        "from queue import PriorityQueue"
      ]
    },
    {
      "cell_type": "markdown",
      "metadata": {
        "id": "DN6vM4UH3tj9"
      },
      "source": [
        "# Graph"
      ]
    },
    {
      "cell_type": "code",
      "execution_count": 27,
      "metadata": {
        "id": "6DrRl5t73rxf"
      },
      "outputs": [],
      "source": [
        "#-------------------------------------------------------------------------------\n",
        "#================================GRAPH==========================================\n",
        "\n",
        "class Graph:\n",
        "    def __init__(self, max_vertices):\n",
        "        self.max_vertices = max_vertices\n",
        "        self.graph = {}\n",
        "\n",
        "    def add_node(self, vertex):\n",
        "        self.graph[vertex] = []\n",
        "        self.max_vertices += 1\n",
        "\n",
        "    def add_edge(self, source, destination):\n",
        "        if destination not in self.graph[source]:\n",
        "            self.graph[source].append(destination)\n",
        "        if destination not in self.graph:\n",
        "            self.add_node(destination)\n",
        "        self.graph[destination].append(source)"
      ]
    },
    {
      "cell_type": "markdown",
      "metadata": {
        "id": "ndUa51vx1uKm"
      },
      "source": [
        "# Inserting Data Into The List From File\n"
      ]
    },
    {
      "cell_type": "code",
      "execution_count": 28,
      "metadata": {
        "id": "gu5S4QJ91Rf-"
      },
      "outputs": [],
      "source": [
        "#-------------------------------------------------------------------------------\n",
        "#================================Inserting Data=================================\n",
        "def insert_data(filename):\n",
        "    file = open(filename, 'r', encoding='utf-8-sig')\n",
        "    data = file.readlines()\n",
        "    dictionary = {}\n",
        "    node = 1\n",
        "    list_dictionaries = []  # list of dictionaries\n",
        "    for line in data:\n",
        "        if node != int(line[0]):\n",
        "            temp = dictionary.copy()\n",
        "            list_dictionaries.append(temp.copy())\n",
        "            node += 1\n",
        "            dictionary.clear()\n",
        "            temp.clear()\n",
        "        line = line.replace('\\n', '')\n",
        "        line = line.split(',', 1)\n",
        "        line = list(line[0]) + line[1].rsplit(',', 1)\n",
        "        dictionary[line[1]] = line[2]\n",
        "    temp = dictionary.copy()\n",
        "    list_dictionaries.append(temp.copy())\n",
        "    return list_dictionaries\n",
        "\n",
        "def min_parent(index, parents, List):\n",
        "    min_cost = float('inf')\n",
        "    for parent in parents:\n",
        "        key = '{' + parent + '}'\n",
        "        if key in List[index]:\n",
        "            cost = float(List[index][key])\n",
        "            min_cost = min(min_cost, cost)\n",
        "    return min_cost if min_cost != float('inf') else float(List[index]['{}'])\n",
        "\n",
        "def get_cost(sequence):\n",
        "    sequence.reverse()\n",
        "    total_cost = 0\n",
        "    for i in range(len(sequence)):\n",
        "        total_cost += round(min_parent(int(sequence[i]) - 1, sequence[i + 1:], List), 3)\n",
        "    return round(total_cost, 3)\n",
        "#------------------------------------Main---------------------------------------\n",
        "#=============================Reading From File Graph===========================\n",
        "List = insert_data(\"data0.txt\")\n",
        "g = Graph(5)\n",
        "sequence = ['1', '2', '3', '4', '5']\n",
        "start = sequence\n",
        "permutations = list(itertools.permutations(sequence))\n",
        "random.shuffle(permutations)\n",
        "separator = ','\n",
        "g.add_node(separator.join(sequence))\n",
        "\n",
        "#=============================Populating Graph==================================\n",
        "for j in range(1, len(permutations)):\n",
        "    permutations_list = list(itertools.permutations(sequence))\n",
        "    random.shuffle(permutations_list)\n",
        "    for i in range(1, len(permutations_list)):\n",
        "        g.add_edge(separator.join(sequence), separator.join(list(permutations_list[i])))\n",
        "    sequence = list(permutations[j])\n",
        "#===============================================================================\n"
      ]
    },
    {
      "cell_type": "markdown",
      "metadata": {
        "id": "jG4AiTW215HI"
      },
      "source": [
        "# Breadth_first_search"
      ]
    },
    {
      "cell_type": "code",
      "execution_count": 29,
      "metadata": {
        "id": "eh3BXXED1VMX"
      },
      "outputs": [],
      "source": [
        "#===========================BFS===================================\n",
        "def breadth_first_search(graph, start):\n",
        "    queue = deque()\n",
        "    cost = float('inf')\n",
        "    order = \"\"\n",
        "    visited = set([start])\n",
        "    queue.append(start)\n",
        "    while queue:\n",
        "        vertex = queue.popleft()\n",
        "        for neighbor in graph[vertex]:\n",
        "            if neighbor not in visited:\n",
        "                visited.add(neighbor)\n",
        "                queue.append(neighbor)\n",
        "        seq_cost = get_sequence_cost(vertex.split(','))\n",
        "        if cost > seq_cost:\n",
        "            cost = seq_cost\n",
        "            order = vertex\n",
        "    print('\\n cost:', cost, 'order:', order)"
      ]
    },
    {
      "cell_type": "markdown",
      "metadata": {
        "id": "bn_6vvIL378f"
      },
      "source": [
        "# Depth_first_search"
      ]
    },
    {
      "cell_type": "code",
      "execution_count": 30,
      "metadata": {
        "id": "RhyIrXS9369u"
      },
      "outputs": [],
      "source": [
        "#===========================DFS===================================\n",
        "def depth_first_search(graph, start):\n",
        "    stack = []\n",
        "    cost = 1000\n",
        "    visited = [start]\n",
        "    stack.append(start)\n",
        "    while stack:\n",
        "        vertex = stack.pop()\n",
        "        for neighbor in graph[vertex]:\n",
        "            if neighbor not in visited:\n",
        "                visited.append(neighbor)\n",
        "                stack.append(neighbor)\n",
        "        sequence_cost = get_sequence_cost(vertex.split(','))\n",
        "        if cost > sequence_cost:\n",
        "            cost = sequence_cost\n",
        "    print('\\n cost:', cost, 'order:', vertex)"
      ]
    },
    {
      "cell_type": "markdown",
      "metadata": {
        "id": "3K5llsV037T2"
      },
      "source": [
        "# Uniform_cost_search"
      ]
    },
    {
      "cell_type": "code",
      "execution_count": 31,
      "metadata": {
        "id": "EuVTlBqy1eBk"
      },
      "outputs": [],
      "source": [
        "#===========================UCS===================================\n",
        "def uniform_cost_search(graph, start):\n",
        "    queue = PriorityQueue()\n",
        "    cost = float('inf')\n",
        "    order = \"\"\n",
        "    visited = set([start])\n",
        "    queue.put(start)\n",
        "    while not queue.empty():\n",
        "        vertex = queue.get()\n",
        "        for neighbor in graph[vertex]:\n",
        "            if neighbor not in visited:\n",
        "                visited.add(neighbor)\n",
        "                queue.put(neighbor)\n",
        "        seq_cost = get_sequence_cost(vertex.split(','))\n",
        "        if cost > seq_cost:\n",
        "            cost = seq_cost\n",
        "            order = vertex\n",
        "    print('\\n cost:', cost, 'order:', order)"
      ]
    },
    {
      "cell_type": "markdown",
      "metadata": {
        "id": "mWk0-VDQ2Ir_"
      },
      "source": [
        "#Callings"
      ]
    },
    {
      "cell_type": "code",
      "execution_count": 32,
      "metadata": {
        "colab": {
          "base_uri": "https://localhost:8080/"
        },
        "id": "-iZtVKUB1jy8",
        "outputId": "19050b2b-6703-4574-917b-fc466e6bdf65"
      },
      "outputs": [
        {
          "name": "stdout",
          "output_type": "stream",
          "text": [
            "\n",
            "========================breadth_first_search========================\n",
            "\n",
            " cost: 465.434 order: 5,4,2,3,1\n",
            "\n",
            "========================depth_first_search========================\n",
            "\n",
            " cost: 465.434 order: 2,3,5,1,4\n",
            "\n",
            "========================uniform_cost_search========================\n",
            "\n",
            " cost: 465.434 order: 4,2,5,3,1\n"
          ]
        }
      ],
      "source": [
        "print(\"\\n========================breadth_first_search========================\")\n",
        "breadth_first_search(g.graph, separator.join(start))\n",
        "print(\"\\n========================depth_first_search========================\")\n",
        "depth_first_search(g.graph, separator.join(start))\n",
        "print(\"\\n========================uniform_cost_search========================\")\n",
        "uniform_cost_search(g.graph, separator.join(start))\n"
      ]
    },
    {
      "cell_type": "code",
      "execution_count": null,
      "metadata": {
        "id": "T9TpBALq58-Z"
      },
      "outputs": [],
      "source": []
    }
  ],
  "metadata": {
    "colab": {
      "provenance": []
    },
    "kernelspec": {
      "display_name": "Python 3",
      "name": "python3"
    },
    "language_info": {
      "name": "python"
    }
  },
  "nbformat": 4,
  "nbformat_minor": 0
}
